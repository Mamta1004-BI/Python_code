{
 "cells": [
  {
   "cell_type": "code",
   "execution_count": 14,
   "id": "df1891d4",
   "metadata": {},
   "outputs": [
    {
     "name": "stdout",
     "output_type": "stream",
     "text": [
      "Current working directory: C:\\Users\\Mamtachaudhary\\OneDrive - Veriforce\\Desktop\\Personal\\nlp_LEARNING\n"
     ]
    }
   ],
   "source": [
    "import os\n",
    "\n",
    "# Change to the desired drive and directory\n",
    "os.chdir('C:\\\\Users\\\\Mamtachaudhary\\\\OneDrive - Veriforce\\\\Desktop\\\\Personal\\\\nlp_LEARNING')\n",
    "\n",
    "# Verify the change\n",
    "print(\"Current working directory:\", os.getcwd())\n",
    "\n"
   ]
  },
  {
   "cell_type": "code",
   "execution_count": 15,
   "id": "5c1dd8fc",
   "metadata": {},
   "outputs": [
    {
     "data": {
      "text/html": [
       "<div>\n",
       "<style scoped>\n",
       "    .dataframe tbody tr th:only-of-type {\n",
       "        vertical-align: middle;\n",
       "    }\n",
       "\n",
       "    .dataframe tbody tr th {\n",
       "        vertical-align: top;\n",
       "    }\n",
       "\n",
       "    .dataframe thead th {\n",
       "        text-align: right;\n",
       "    }\n",
       "</style>\n",
       "<table border=\"1\" class=\"dataframe\">\n",
       "  <thead>\n",
       "    <tr style=\"text-align: right;\">\n",
       "      <th></th>\n",
       "      <th>Explanation</th>\n",
       "    </tr>\n",
       "  </thead>\n",
       "  <tbody>\n",
       "    <tr>\n",
       "      <th>0</th>\n",
       "      <td>&amp;nbsp;\\n\\n\\n\\n\\nClient Unit\\n\\n\\nRequired Wording For This &amp;ldquo;Additionally Insured&amp;rdquo; Statement Must Show As:\\n\\n\\n\\n\\n&amp;nbsp;&amp;nbsp; 360 Energy Liability Management &amp;nbsp;\\n\\n\\n&amp;nbsp;\\n360 Energy Liability Management\\n&amp;nbsp;\\n\\n\\n\\n\\n&amp;nbsp;\\n\\n\\n\\n\\nName and Address for&amp;nbsp;'Certificate Holder' must show as:\\n\\n\\n\\n&amp;nbsp;360 Energy Liability Management&amp;nbsp;Suite 1600, Bow Valley Square 1 202-6 Ave SW Calgary AB T2P 2R9&amp;nbsp;</td>\n",
       "    </tr>\n",
       "    <tr>\n",
       "      <th>1</th>\n",
       "      <td>&amp;nbsp;\\n\\n\\n\\n\\nName and Address for&amp;nbsp;'Certificate Holder' must show as:\\n\\n\\n\\n&amp;nbsp;360 Energy Liability Management&amp;nbsp;Suite 1600, Bow Valley Square 1 202-6 Ave SW Calgary AB T2P 2R9&amp;nbsp;\\n\\n\\n\\n&amp;nbsp;&amp;nbsp;</td>\n",
       "    </tr>\n",
       "    <tr>\n",
       "      <th>2</th>\n",
       "      <td>&amp;nbsp;\\nPlease note that&amp;nbsp;Catalyst Paper Corporation&amp;nbsp;must be named as additional insured on your Commercial General Liability and Umbrella Insurance policies.\\n&amp;nbsp;\\n\\n\\n\\n\\n&amp;nbsp;Client\\n\\n\\nRequired Wording For This &amp;ldquo;Additionally Insured&amp;rdquo; Statement Must Show As:\\n\\n\\n\\n\\nCatalyst Paper Corporation&amp;nbsp;\\n\\n\\n&amp;nbsp;\\nCatalyst Paper Corporation\\n&amp;nbsp;\\n\\n\\n\\n\\n&amp;nbsp;&amp;nbsp;&amp;nbsp;\\n\\n\\n\\n\\nName and Address for &amp;ldquo;Certificate Holder&amp;rdquo; must show as:\\n\\n\\n\\n\\nCatalyst Paper Corporation\\n2nd Floor, 3600 Lysander Lane, Richmond, BC, V7B 1C3&amp;nbsp;\\n&amp;nbsp;\\n\\n\\n\\n\\n&amp;nbsp;</td>\n",
       "    </tr>\n",
       "    <tr>\n",
       "      <th>3</th>\n",
       "      <td>&amp;nbsp;\\nPlease note that&amp;nbsp;Catalyst Paper Corporation&amp;nbsp;must be named as the Certificate Holder on your Commercial General Liability Insurance policy.\\n&amp;nbsp;\\n\\n\\n\\n\\nName and Address for &amp;ldquo;Certificate Holder&amp;rdquo; must show as:\\n\\n\\n\\n\\nCatalyst Paper Corporation\\n2nd Floor, 3600 Lysander Lane, Richmond, BC, V7B 1C3&amp;nbsp;\\n&amp;nbsp;</td>\n",
       "    </tr>\n",
       "    <tr>\n",
       "      <th>4</th>\n",
       "      <td>Please note that 1132682 Alberta Ltd o/a Brown's Industrial Services must be named as additionally insured on your Commercial General Liability insurance policy.\\n&amp;nbsp;\\n\\n\\n\\n\\n&amp;nbsp;Client\\n\\n\\nRequired Wording For This &amp;ldquo;Additionally Insured&amp;rdquo; Statement Must Show As:\\n\\n\\n\\n\\n1132682 Alberta Ltd o/a Brown's Industrial Services&amp;nbsp;\\n\\n\\n&amp;nbsp;\\n1132682 Alberta Ltd o/a Brown's Industrial Services\\n&amp;nbsp;\\n\\n\\n\\n\\n&amp;nbsp;</td>\n",
       "    </tr>\n",
       "    <tr>\n",
       "      <th>...</th>\n",
       "      <td>...</td>\n",
       "    </tr>\n",
       "    <tr>\n",
       "      <th>638</th>\n",
       "      <td>&amp;nbsp;\\nPlease note that Meritage Midstream ULC, its parent, subsidiary and affiliated companies, its and their co-lessees, partners, members, managers, joint ventures, co-owners, contractors (other than Vendor), and its and their respective parent, subsidiary, affiliated companies, directors, officers, employees, agents, and representatives&amp;nbsp;must be named as additional insured on your Commercial General Liability and Umbrella Insurance policies.\\n&amp;nbsp;\\n\\n\\n\\n\\n&amp;nbsp;Client\\n\\n\\nRequired Wording For This &amp;ldquo;Additionally Insured&amp;rdquo; Statement Must Show As:\\n\\n\\n\\n\\nMeritage Midstream ULC&amp;nbsp;\\n\\n\\n&amp;nbsp;\\nMeritage Midstream ULC, its parent, subsidiary and affiliated companies, its and their co-lessees, partners, members, managers, joint ventures, co-owners, contractors (other than Vendor), and its and their respective parent, subsidiary, affiliated companies, directors, officers, employees, agents, and representatives.\\n&amp;nbsp;\\n&amp;nbsp;\\n\\n\\n\\n\\n&amp;nbsp;&amp;nbsp;&amp;nbsp;\\n\\n\\n\\n\\nName and Address for &amp;ldquo;Certificate Holder&amp;rdquo; must show as:\\n\\n\\n\\n\\nMeritage Midstream ULC\\n1331 Seventeenth Street,&amp;nbsp;Suite 1100Denver, Colorado 80202&amp;nbsp;</td>\n",
       "    </tr>\n",
       "    <tr>\n",
       "      <th>639</th>\n",
       "      <td>&amp;nbsp; &amp;nbsp; &amp;nbsp; &amp;nbsp; &amp;nbsp; &amp;nbsp; &amp;nbsp; &amp;nbsp; &amp;nbsp; &amp;nbsp; &amp;nbsp; &amp;nbsp;&amp;nbsp; Client\\n\\n\\nRequired Wording For This &amp;ldquo;Additionally Insured&amp;rdquo; Statement Must Show As:\\n\\n\\n\\n\\n&amp;nbsp;&amp;nbsp; Nanometrics Inc.\\n\\n\\n&amp;nbsp;\\nNanometrics Inc.\\n250 Herzberg Road\\nKanata, Ontario\\nK2K 2A1\\n&amp;nbsp;\\n\\n\\n\\n\\n&amp;nbsp;</td>\n",
       "    </tr>\n",
       "    <tr>\n",
       "      <th>640</th>\n",
       "      <td>&amp;nbsp; &amp;nbsp; &amp;nbsp; &amp;nbsp; &amp;nbsp; &amp;nbsp; &amp;nbsp; &amp;nbsp; &amp;nbsp; &amp;nbsp; &amp;nbsp; &amp;nbsp;&amp;nbsp; Client\\n\\n\\nRequired Wording For This &amp;ldquo;Additionally Insured&amp;rdquo; Statement Must Show As:\\n\\n\\n\\n\\n&amp;nbsp;&amp;nbsp; Nanometrics Inc.\\n\\n\\n&amp;nbsp;\\nNanometrics Inc.\\n250 Herzberg Road\\nKanata, Ontario\\nK2K 2A1\\n&amp;nbsp;\\n\\n\\n\\n\\n&amp;nbsp;</td>\n",
       "    </tr>\n",
       "    <tr>\n",
       "      <th>641</th>\n",
       "      <td>&amp;nbsp; &amp;nbsp; &amp;nbsp; &amp;nbsp; &amp;nbsp; &amp;nbsp; &amp;nbsp; &amp;nbsp; &amp;nbsp; &amp;nbsp; &amp;nbsp; &amp;nbsp;&amp;nbsp; Client\\n\\n\\nRequired Wording For This &amp;ldquo;Additionally Insured&amp;rdquo; Statement Must Show As:\\n\\n\\n\\n\\n&amp;nbsp;&amp;nbsp; Nanometrics Inc.\\n\\n\\n&amp;nbsp;\\nNanometrics Inc.\\n250 Herzberg Road\\nKanata, Ontario\\nK2K 2A1\\n&amp;nbsp;\\n\\n\\n\\n\\n&amp;nbsp;</td>\n",
       "    </tr>\n",
       "    <tr>\n",
       "      <th>642</th>\n",
       "      <td>&amp;nbsp; &amp;nbsp; &amp;nbsp; &amp;nbsp; &amp;nbsp; &amp;nbsp; &amp;nbsp; &amp;nbsp; &amp;nbsp; &amp;nbsp; &amp;nbsp; &amp;nbsp;&amp;nbsp; Client\\n\\n\\nRequired Wording For This &amp;ldquo;Additionally Insured&amp;rdquo; Statement Must Show As:\\n\\n\\n\\n\\n&amp;nbsp;&amp;nbsp; Nanometrics Inc.\\n\\n\\n&amp;nbsp;\\nNanometrics Inc.\\n250 Herzberg Road\\nKanata, Ontario\\nK2K 2A1\\n&amp;nbsp;\\n\\n\\n\\n\\n\\n&amp;nbsp;</td>\n",
       "    </tr>\n",
       "  </tbody>\n",
       "</table>\n",
       "<p>643 rows × 1 columns</p>\n",
       "</div>"
      ],
      "text/plain": [
       "                                                                                                                                                                                                                                                                                                                                                                                                                                                                                                                                                                                                                                                                                                                                                                                                                                                                                                                                                                                                                                                                                                                                                                                                          Explanation\n",
       "0                                                                                                                                                                                                                                                                                                                                                                                                                                                                                                                                                                                                                                                                                                                                                               &nbsp;\\n\\n\\n\\n\\nClient Unit\\n\\n\\nRequired Wording For This &ldquo;Additionally Insured&rdquo; Statement Must Show As:\\n\\n\\n\\n\\n&nbsp;&nbsp; 360 Energy Liability Management &nbsp;\\n\\n\\n&nbsp;\\n360 Energy Liability Management\\n&nbsp;\\n\\n\\n\\n\\n&nbsp;\\n\\n\\n\\n\\nName and Address for&nbsp;'Certificate Holder' must show as:\\n\\n\\n\\n&nbsp;360 Energy Liability Management&nbsp;Suite 1600, Bow Valley Square 1 202-6 Ave SW Calgary AB T2P 2R9&nbsp;\n",
       "1                                                                                                                                                                                                                                                                                                                                                                                                                                                                                                                                                                                                                                                                                                                                                                                                                                                                                                                                                                                            &nbsp;\\n\\n\\n\\n\\nName and Address for&nbsp;'Certificate Holder' must show as:\\n\\n\\n\\n&nbsp;360 Energy Liability Management&nbsp;Suite 1600, Bow Valley Square 1 202-6 Ave SW Calgary AB T2P 2R9&nbsp;\\n\\n\\n\\n&nbsp;&nbsp;\n",
       "2                                                                                                                                                                                                                                                                                                                                                                                                                                                                                                                                                                                          &nbsp;\\nPlease note that&nbsp;Catalyst Paper Corporation&nbsp;must be named as additional insured on your Commercial General Liability and Umbrella Insurance policies.\\n&nbsp;\\n\\n\\n\\n\\n&nbsp;Client\\n\\n\\nRequired Wording For This &ldquo;Additionally Insured&rdquo; Statement Must Show As:\\n\\n\\n\\n\\nCatalyst Paper Corporation&nbsp;\\n\\n\\n&nbsp;\\nCatalyst Paper Corporation\\n&nbsp;\\n\\n\\n\\n\\n&nbsp;&nbsp;&nbsp;\\n\\n\\n\\n\\nName and Address for &ldquo;Certificate Holder&rdquo; must show as:\\n\\n\\n\\n\\nCatalyst Paper Corporation\\n2nd Floor, 3600 Lysander Lane, Richmond, BC, V7B 1C3&nbsp;\\n&nbsp;\\n\\n\\n\\n\\n&nbsp;\n",
       "3                                                                                                                                                                                                                                                                                                                                                                                                                                                                                                                                                                                                                                                                                                                                                                                                                                                           &nbsp;\\nPlease note that&nbsp;Catalyst Paper Corporation&nbsp;must be named as the Certificate Holder on your Commercial General Liability Insurance policy.\\n&nbsp;\\n\\n\\n\\n\\nName and Address for &ldquo;Certificate Holder&rdquo; must show as:\\n\\n\\n\\n\\nCatalyst Paper Corporation\\n2nd Floor, 3600 Lysander Lane, Richmond, BC, V7B 1C3&nbsp;\\n&nbsp;\n",
       "4                                                                                                                                                                                                                                                                                                                                                                                                                                                                                                                                                                                                                                                                                                                                                               Please note that 1132682 Alberta Ltd o/a Brown's Industrial Services must be named as additionally insured on your Commercial General Liability insurance policy.\\n&nbsp;\\n\\n\\n\\n\\n&nbsp;Client\\n\\n\\nRequired Wording For This &ldquo;Additionally Insured&rdquo; Statement Must Show As:\\n\\n\\n\\n\\n1132682 Alberta Ltd o/a Brown's Industrial Services&nbsp;\\n\\n\\n&nbsp;\\n1132682 Alberta Ltd o/a Brown's Industrial Services\\n&nbsp;\\n\\n\\n\\n\\n&nbsp;\n",
       "..                                                                                                                                                                                                                                                                                                                                                                                                                                                                                                                                                                                                                                                                                                                                                                                                                                                                                                                                                                                                                                                                                                                                                                                                                ...\n",
       "638  &nbsp;\\nPlease note that Meritage Midstream ULC, its parent, subsidiary and affiliated companies, its and their co-lessees, partners, members, managers, joint ventures, co-owners, contractors (other than Vendor), and its and their respective parent, subsidiary, affiliated companies, directors, officers, employees, agents, and representatives&nbsp;must be named as additional insured on your Commercial General Liability and Umbrella Insurance policies.\\n&nbsp;\\n\\n\\n\\n\\n&nbsp;Client\\n\\n\\nRequired Wording For This &ldquo;Additionally Insured&rdquo; Statement Must Show As:\\n\\n\\n\\n\\nMeritage Midstream ULC&nbsp;\\n\\n\\n&nbsp;\\nMeritage Midstream ULC, its parent, subsidiary and affiliated companies, its and their co-lessees, partners, members, managers, joint ventures, co-owners, contractors (other than Vendor), and its and their respective parent, subsidiary, affiliated companies, directors, officers, employees, agents, and representatives.\\n&nbsp;\\n&nbsp;\\n\\n\\n\\n\\n&nbsp;&nbsp;&nbsp;\\n\\n\\n\\n\\nName and Address for &ldquo;Certificate Holder&rdquo; must show as:\\n\\n\\n\\n\\nMeritage Midstream ULC\\n1331 Seventeenth Street,&nbsp;Suite 1100Denver, Colorado 80202&nbsp;\n",
       "639                                                                                                                                                                                                                                                                                                                                                                                                                                                                                                                                                                                                                                                                                                                                                                                                                                                                              &nbsp; &nbsp; &nbsp; &nbsp; &nbsp; &nbsp; &nbsp; &nbsp; &nbsp; &nbsp; &nbsp; &nbsp;&nbsp; Client\\n\\n\\nRequired Wording For This &ldquo;Additionally Insured&rdquo; Statement Must Show As:\\n\\n\\n\\n\\n&nbsp;&nbsp; Nanometrics Inc.\\n\\n\\n&nbsp;\\nNanometrics Inc.\\n250 Herzberg Road\\nKanata, Ontario\\nK2K 2A1\\n&nbsp;\\n\\n\\n\\n\\n&nbsp;\n",
       "640                                                                                                                                                                                                                                                                                                                                                                                                                                                                                                                                                                                                                                                                                                                                                                                                                                                                              &nbsp; &nbsp; &nbsp; &nbsp; &nbsp; &nbsp; &nbsp; &nbsp; &nbsp; &nbsp; &nbsp; &nbsp;&nbsp; Client\\n\\n\\nRequired Wording For This &ldquo;Additionally Insured&rdquo; Statement Must Show As:\\n\\n\\n\\n\\n&nbsp;&nbsp; Nanometrics Inc.\\n\\n\\n&nbsp;\\nNanometrics Inc.\\n250 Herzberg Road\\nKanata, Ontario\\nK2K 2A1\\n&nbsp;\\n\\n\\n\\n\\n&nbsp;\n",
       "641                                                                                                                                                                                                                                                                                                                                                                                                                                                                                                                                                                                                                                                                                                                                                                                                                                                                              &nbsp; &nbsp; &nbsp; &nbsp; &nbsp; &nbsp; &nbsp; &nbsp; &nbsp; &nbsp; &nbsp; &nbsp;&nbsp; Client\\n\\n\\nRequired Wording For This &ldquo;Additionally Insured&rdquo; Statement Must Show As:\\n\\n\\n\\n\\n&nbsp;&nbsp; Nanometrics Inc.\\n\\n\\n&nbsp;\\nNanometrics Inc.\\n250 Herzberg Road\\nKanata, Ontario\\nK2K 2A1\\n&nbsp;\\n\\n\\n\\n\\n&nbsp;\n",
       "642                                                                                                                                                                                                                                                                                                                                                                                                                                                                                                                                                                                                                                                                                                                                                                                                                                                                            &nbsp; &nbsp; &nbsp; &nbsp; &nbsp; &nbsp; &nbsp; &nbsp; &nbsp; &nbsp; &nbsp; &nbsp;&nbsp; Client\\n\\n\\nRequired Wording For This &ldquo;Additionally Insured&rdquo; Statement Must Show As:\\n\\n\\n\\n\\n&nbsp;&nbsp; Nanometrics Inc.\\n\\n\\n&nbsp;\\nNanometrics Inc.\\n250 Herzberg Road\\nKanata, Ontario\\nK2K 2A1\\n&nbsp;\\n\\n\\n\\n\\n\\n&nbsp;\n",
       "\n",
       "[643 rows x 1 columns]"
      ]
     },
     "execution_count": 15,
     "metadata": {},
     "output_type": "execute_result"
    }
   ],
   "source": [
    "import pandas as pd\n",
    "\n",
    "# Load Excel file\n",
    "df = pd.read_csv('Name_addrees_extraction.csv')\n",
    "df"
   ]
  },
  {
   "cell_type": "code",
   "execution_count": 16,
   "id": "d714b4f2",
   "metadata": {},
   "outputs": [],
   "source": [
    "#This step is for cleaning up the data \n",
    "import re\n",
    "from cleanco import basename\n",
    "def preprocess_name(text):\n",
    "    if not isinstance(text, str):\n",
    "        return ''\n",
    "    # Remove HTML entities and extra whitespace\n",
    "    text = re.sub(r'&[^\\s]+;', ' ', text)  # Replace HTML entities with a space\n",
    "    text = re.sub(r'\\s+', ' ', text)  # Replace multiple whitespace characters with a single space\n",
    "    text = re.sub(r'&', 'and', text)  #replace the special character\n",
    "    text = re.sub(r'\\(inactive\\)', '', text,flags=re.IGNORECASE) # remove the one with inactive in it\n",
    "    text = re.sub(r'[^\\w\\s]','',text)  #remove punctuation\n",
    "    text = basename(text)\n",
    "    text = text.lower()\n",
    "    return text.strip()  # Strip leading and trailing whitespace\n",
    "\n",
    "\n"
   ]
  },
  {
   "cell_type": "code",
   "execution_count": null,
   "id": "df3f49e5",
   "metadata": {},
   "outputs": [],
   "source": []
  },
  {
   "cell_type": "code",
   "execution_count": 17,
   "id": "bbec67e6",
   "metadata": {},
   "outputs": [
    {
     "data": {
      "text/plain": [
       "(643,)"
      ]
     },
     "execution_count": 17,
     "metadata": {},
     "output_type": "execute_result"
    }
   ],
   "source": [
    "df_new=df['Explanation'].apply(preprocess_name)\n",
    "df_new.shape\n",
    "#df_new[1]"
   ]
  },
  {
   "cell_type": "code",
   "execution_count": 18,
   "id": "e1b54e4f",
   "metadata": {},
   "outputs": [],
   "source": [
    "df_new=pd.DataFrame(df_new)\n",
    "pd.set_option('display.max_colwidth', None)"
   ]
  },
  {
   "cell_type": "code",
   "execution_count": 19,
   "id": "153f6c96-b3df-417d-b35a-558cbbc3c184",
   "metadata": {},
   "outputs": [
    {
     "data": {
      "text/html": [
       "<div>\n",
       "<style scoped>\n",
       "    .dataframe tbody tr th:only-of-type {\n",
       "        vertical-align: middle;\n",
       "    }\n",
       "\n",
       "    .dataframe tbody tr th {\n",
       "        vertical-align: top;\n",
       "    }\n",
       "\n",
       "    .dataframe thead th {\n",
       "        text-align: right;\n",
       "    }\n",
       "</style>\n",
       "<table border=\"1\" class=\"dataframe\">\n",
       "  <thead>\n",
       "    <tr style=\"text-align: right;\">\n",
       "      <th></th>\n",
       "      <th>Explanation</th>\n",
       "    </tr>\n",
       "  </thead>\n",
       "  <tbody>\n",
       "    <tr>\n",
       "      <th>0</th>\n",
       "      <td>client unit required wording for this additionally insured statement must show as 360 energy liability management 360 energy liability management name and address for certificate holder must show as 360 energy liability management suite 1600 bow valley square 1 2026 ave sw calgary ab t2p 2r9</td>\n",
       "    </tr>\n",
       "    <tr>\n",
       "      <th>1</th>\n",
       "      <td>name and address for certificate holder must show as 360 energy liability management suite 1600 bow valley square 1 2026 ave sw calgary ab t2p 2r9</td>\n",
       "    </tr>\n",
       "    <tr>\n",
       "      <th>2</th>\n",
       "      <td>please note that catalyst paper corporation must be named as additional insured on your commercial general liability and umbrella insurance policies client required wording for this additionally insured statement must show as catalyst paper corporation catalyst paper corporation name and address for certificate holder must show as catalyst paper corporation 2nd floor 3600 lysander lane richmond bc v7b 1c3</td>\n",
       "    </tr>\n",
       "    <tr>\n",
       "      <th>3</th>\n",
       "      <td>please note that catalyst paper corporation must be named as the certificate holder on your commercial general liability insurance policy name and address for certificate holder must show as catalyst paper corporation 2nd floor 3600 lysander lane richmond bc v7b 1c3</td>\n",
       "    </tr>\n",
       "    <tr>\n",
       "      <th>4</th>\n",
       "      <td>please note that 1132682 alberta ltd oa browns industrial services must be named as additionally insured on your commercial general liability insurance policy client required wording for this additionally insured statement must show as 1132682 alberta ltd oa browns industrial services 1132682 alberta ltd oa browns industrial services</td>\n",
       "    </tr>\n",
       "    <tr>\n",
       "      <th>...</th>\n",
       "      <td>...</td>\n",
       "    </tr>\n",
       "    <tr>\n",
       "      <th>638</th>\n",
       "      <td>please note that meritage midstream ulc its parent subsidiary and affiliated companies its and their colessees partners members managers joint ventures coowners contractors other than vendor and its and their respective parent subsidiary affiliated companies directors officers employees agents and representatives must be named as additional insured on your commercial general liability and umbrella insurance policies client required wording for this additionally insured statement must show as meritage midstream ulc meritage midstream ulc its parent subsidiary and affiliated companies its and their colessees partners members managers joint ventures coowners contractors other than vendor and its and their respective parent subsidiary affiliated companies directors officers employees agents and representatives name and address for certificate holder must show as meritage midstream ulc 1331 seventeenth street suite 1100denver colorado 80202</td>\n",
       "    </tr>\n",
       "    <tr>\n",
       "      <th>639</th>\n",
       "      <td>client required wording for this additionally insured statement must show as nanometrics inc nanometrics inc 250 herzberg road kanata ontario k2k 2a1</td>\n",
       "    </tr>\n",
       "    <tr>\n",
       "      <th>640</th>\n",
       "      <td>client required wording for this additionally insured statement must show as nanometrics inc nanometrics inc 250 herzberg road kanata ontario k2k 2a1</td>\n",
       "    </tr>\n",
       "    <tr>\n",
       "      <th>641</th>\n",
       "      <td>client required wording for this additionally insured statement must show as nanometrics inc nanometrics inc 250 herzberg road kanata ontario k2k 2a1</td>\n",
       "    </tr>\n",
       "    <tr>\n",
       "      <th>642</th>\n",
       "      <td>client required wording for this additionally insured statement must show as nanometrics inc nanometrics inc 250 herzberg road kanata ontario k2k 2a1</td>\n",
       "    </tr>\n",
       "  </tbody>\n",
       "</table>\n",
       "<p>643 rows × 1 columns</p>\n",
       "</div>"
      ],
      "text/plain": [
       "                                                                                                                                                                                                                                                                                                                                                                                                                                                                                                                                                                                                                                                                                                                                                                                                                                                                                                                                                                               Explanation\n",
       "0                                                                                                                                                                                                                                                                                                                                                                                                                                                                                                                                                                                                                                                                                     client unit required wording for this additionally insured statement must show as 360 energy liability management 360 energy liability management name and address for certificate holder must show as 360 energy liability management suite 1600 bow valley square 1 2026 ave sw calgary ab t2p 2r9\n",
       "1                                                                                                                                                                                                                                                                                                                                                                                                                                                                                                                                                                                                                                                                                                                                                                                                                                       name and address for certificate holder must show as 360 energy liability management suite 1600 bow valley square 1 2026 ave sw calgary ab t2p 2r9\n",
       "2                                                                                                                                                                                                                                                                                                                                                                                                                                                                                                                                                                 please note that catalyst paper corporation must be named as additional insured on your commercial general liability and umbrella insurance policies client required wording for this additionally insured statement must show as catalyst paper corporation catalyst paper corporation name and address for certificate holder must show as catalyst paper corporation 2nd floor 3600 lysander lane richmond bc v7b 1c3\n",
       "3                                                                                                                                                                                                                                                                                                                                                                                                                                                                                                                                                                                                                                                                                                               please note that catalyst paper corporation must be named as the certificate holder on your commercial general liability insurance policy name and address for certificate holder must show as catalyst paper corporation 2nd floor 3600 lysander lane richmond bc v7b 1c3\n",
       "4                                                                                                                                                                                                                                                                                                                                                                                                                                                                                                                                                                                                                                          please note that 1132682 alberta ltd oa browns industrial services must be named as additionally insured on your commercial general liability insurance policy client required wording for this additionally insured statement must show as 1132682 alberta ltd oa browns industrial services 1132682 alberta ltd oa browns industrial services\n",
       "..                                                                                                                                                                                                                                                                                                                                                                                                                                                                                                                                                                                                                                                                                                                                                                                                                                                                                                                                                                                     ...\n",
       "638  please note that meritage midstream ulc its parent subsidiary and affiliated companies its and their colessees partners members managers joint ventures coowners contractors other than vendor and its and their respective parent subsidiary affiliated companies directors officers employees agents and representatives must be named as additional insured on your commercial general liability and umbrella insurance policies client required wording for this additionally insured statement must show as meritage midstream ulc meritage midstream ulc its parent subsidiary and affiliated companies its and their colessees partners members managers joint ventures coowners contractors other than vendor and its and their respective parent subsidiary affiliated companies directors officers employees agents and representatives name and address for certificate holder must show as meritage midstream ulc 1331 seventeenth street suite 1100denver colorado 80202\n",
       "639                                                                                                                                                                                                                                                                                                                                                                                                                                                                                                                                                                                                                                                                                                                                                                                                                                  client required wording for this additionally insured statement must show as nanometrics inc nanometrics inc 250 herzberg road kanata ontario k2k 2a1\n",
       "640                                                                                                                                                                                                                                                                                                                                                                                                                                                                                                                                                                                                                                                                                                                                                                                                                                  client required wording for this additionally insured statement must show as nanometrics inc nanometrics inc 250 herzberg road kanata ontario k2k 2a1\n",
       "641                                                                                                                                                                                                                                                                                                                                                                                                                                                                                                                                                                                                                                                                                                                                                                                                                                  client required wording for this additionally insured statement must show as nanometrics inc nanometrics inc 250 herzberg road kanata ontario k2k 2a1\n",
       "642                                                                                                                                                                                                                                                                                                                                                                                                                                                                                                                                                                                                                                                                                                                                                                                                                                  client required wording for this additionally insured statement must show as nanometrics inc nanometrics inc 250 herzberg road kanata ontario k2k 2a1\n",
       "\n",
       "[643 rows x 1 columns]"
      ]
     },
     "execution_count": 19,
     "metadata": {},
     "output_type": "execute_result"
    }
   ],
   "source": [
    "df_new"
   ]
  },
  {
   "cell_type": "code",
   "execution_count": 20,
   "id": "4f7e5718",
   "metadata": {},
   "outputs": [
    {
     "data": {
      "text/html": [
       "<div>\n",
       "<style scoped>\n",
       "    .dataframe tbody tr th:only-of-type {\n",
       "        vertical-align: middle;\n",
       "    }\n",
       "\n",
       "    .dataframe tbody tr th {\n",
       "        vertical-align: top;\n",
       "    }\n",
       "\n",
       "    .dataframe thead th {\n",
       "        text-align: right;\n",
       "    }\n",
       "</style>\n",
       "<table border=\"1\" class=\"dataframe\">\n",
       "  <thead>\n",
       "    <tr style=\"text-align: right;\">\n",
       "      <th></th>\n",
       "      <th>Explanation</th>\n",
       "    </tr>\n",
       "  </thead>\n",
       "  <tbody>\n",
       "    <tr>\n",
       "      <th>0</th>\n",
       "      <td>client unit required wording for this additionally insured statement must show as 360 energy liability management 360 energy liability management name and address for certificate holder must show as 360 energy liability management suite 1600 bow valley square 1 2026 ave sw calgary ab t2p 2r9</td>\n",
       "    </tr>\n",
       "  </tbody>\n",
       "</table>\n",
       "</div>"
      ],
      "text/plain": [
       "                                                                                                                                                                                                                                                                                            Explanation\n",
       "0  client unit required wording for this additionally insured statement must show as 360 energy liability management 360 energy liability management name and address for certificate holder must show as 360 energy liability management suite 1600 bow valley square 1 2026 ave sw calgary ab t2p 2r9"
      ]
     },
     "execution_count": 20,
     "metadata": {},
     "output_type": "execute_result"
    }
   ],
   "source": [
    "A=df_new.head(1)\n",
    "A"
   ]
  },
  {
   "cell_type": "code",
   "execution_count": 21,
   "id": "7472dcfa",
   "metadata": {},
   "outputs": [],
   "source": [
    "def Extract_pattern(text):\n",
    "    if \"must hold as\" in text:\n",
    "        match = re.search(r'must show as(.+)', text)\n",
    "        if match:\n",
    "            return match.group(1).strip()\n",
    "    return \"No Pattern Found\"\n",
    "\n",
    "df_extracted=df_new['Explanation'].apply(Extract_pattern)"
   ]
  },
  {
   "cell_type": "code",
   "execution_count": 22,
   "id": "e94967de",
   "metadata": {},
   "outputs": [
    {
     "data": {
      "text/plain": [
       "<re.Match object; span=(69, 292), match='must show as 360 energy liability management 360 >"
      ]
     },
     "execution_count": 22,
     "metadata": {},
     "output_type": "execute_result"
    }
   ],
   "source": [
    "re.search(r'must show as(.+)', \"client unit required wording for this additionally insured statement must show as 360 energy liability management 360 energy liability management name and address for certificate holder must show as 360 energy liability management suite 1600 bow valley square 1 2026 ave sw calgary ab t2p 2r9\")"
   ]
  },
  {
   "cell_type": "code",
   "execution_count": 23,
   "id": "a2e1677c",
   "metadata": {},
   "outputs": [
    {
     "name": "stdout",
     "output_type": "stream",
     "text": [
      "Company Name: 3\n",
      "Address: name and address for certificate holder must show as 360 energy liability management suite 1600 bow valley square 1 2026 ave sw calgary ab t2p 2r9\n"
     ]
    }
   ],
   "source": [
    "import re\n",
    "\n",
    "def extract_company_info(text):\n",
    "    # Define regex patterns for company name and address\n",
    "    name_pattern = r'(?<=show as )([a-zA-Z0-9\\s&.,-]+?)'\n",
    "    address_pattern = r'([a-zA-Z0-9\\s&.,-]+)'\n",
    "\n",
    "    # Search for company name\n",
    "    name_match = re.search(name_pattern, text, re.IGNORECASE)\n",
    "    if name_match:\n",
    "        company_name = name_match.group(1).strip()\n",
    "    else:\n",
    "        company_name = None\n",
    "\n",
    "    # Search for address\n",
    "    address_match = re.search(address_pattern, text, re.IGNORECASE)\n",
    "    if address_match:\n",
    "        address = address_match.group(1).strip()\n",
    "    else:\n",
    "        address = None\n",
    "\n",
    "    return company_name, address\n",
    "\n",
    "# Sample unstructured text\n",
    "text = \"\"\"\n",
    "name and address for certificate holder must show as 360 energy liability management suite 1600 bow valley square 1 2026 ave sw calgary ab t2p 2r9\n",
    "\"\"\"\n",
    "\n",
    "# Extract company info\n",
    "company_name, address = extract_company_info(text)\n",
    "\n",
    "# Print extracted information\n",
    "print(f\"Company Name: {company_name}\")\n",
    "print(f\"Address: {address}\")\n"
   ]
  },
  {
   "cell_type": "code",
   "execution_count": 24,
   "id": "9f6f42f1",
   "metadata": {},
   "outputs": [],
   "source": [
    "#!pip install spacy\n",
    "#python -m spacy download en_core_web_sm\n"
   ]
  },
  {
   "cell_type": "code",
   "execution_count": 25,
   "id": "51ff04ba",
   "metadata": {},
   "outputs": [
    {
     "ename": "OSError",
     "evalue": "[E050] Can't find model 'en_core_web_sm'. It doesn't seem to be a Python package or a valid path to a data directory.",
     "output_type": "error",
     "traceback": [
      "\u001b[1;31m---------------------------------------------------------------------------\u001b[0m",
      "\u001b[1;31mOSError\u001b[0m                                   Traceback (most recent call last)",
      "Cell \u001b[1;32mIn[25], line 4\u001b[0m\n\u001b[0;32m      1\u001b[0m \u001b[38;5;28;01mimport\u001b[39;00m \u001b[38;5;21;01mspacy\u001b[39;00m\n\u001b[0;32m      3\u001b[0m \u001b[38;5;66;03m# Load the spaCy model\u001b[39;00m\n\u001b[1;32m----> 4\u001b[0m nlp \u001b[38;5;241m=\u001b[39m spacy\u001b[38;5;241m.\u001b[39mload(\u001b[38;5;124m'\u001b[39m\u001b[38;5;124men_core_web_sm\u001b[39m\u001b[38;5;124m'\u001b[39m)\n\u001b[0;32m      6\u001b[0m \u001b[38;5;28;01mdef\u001b[39;00m \u001b[38;5;21mextract_company_info\u001b[39m(text):\n\u001b[0;32m      7\u001b[0m     doc \u001b[38;5;241m=\u001b[39m nlp(text)\n",
      "File \u001b[1;32mc:\\Users\\MamtaChaudhary\\anaconda3\\Lib\\site-packages\\spacy\\__init__.py:51\u001b[0m, in \u001b[0;36mload\u001b[1;34m(name, vocab, disable, enable, exclude, config)\u001b[0m\n\u001b[0;32m     27\u001b[0m \u001b[38;5;28;01mdef\u001b[39;00m \u001b[38;5;21mload\u001b[39m(\n\u001b[0;32m     28\u001b[0m     name: Union[\u001b[38;5;28mstr\u001b[39m, Path],\n\u001b[0;32m     29\u001b[0m     \u001b[38;5;241m*\u001b[39m,\n\u001b[1;32m   (...)\u001b[0m\n\u001b[0;32m     34\u001b[0m     config: Union[Dict[\u001b[38;5;28mstr\u001b[39m, Any], Config] \u001b[38;5;241m=\u001b[39m util\u001b[38;5;241m.\u001b[39mSimpleFrozenDict(),\n\u001b[0;32m     35\u001b[0m ) \u001b[38;5;241m-\u001b[39m\u001b[38;5;241m>\u001b[39m Language:\n\u001b[0;32m     36\u001b[0m \u001b[38;5;250m    \u001b[39m\u001b[38;5;124;03m\"\"\"Load a spaCy model from an installed package or a local path.\u001b[39;00m\n\u001b[0;32m     37\u001b[0m \n\u001b[0;32m     38\u001b[0m \u001b[38;5;124;03m    name (str): Package name or model path.\u001b[39;00m\n\u001b[1;32m   (...)\u001b[0m\n\u001b[0;32m     49\u001b[0m \u001b[38;5;124;03m    RETURNS (Language): The loaded nlp object.\u001b[39;00m\n\u001b[0;32m     50\u001b[0m \u001b[38;5;124;03m    \"\"\"\u001b[39;00m\n\u001b[1;32m---> 51\u001b[0m     \u001b[38;5;28;01mreturn\u001b[39;00m util\u001b[38;5;241m.\u001b[39mload_model(\n\u001b[0;32m     52\u001b[0m         name,\n\u001b[0;32m     53\u001b[0m         vocab\u001b[38;5;241m=\u001b[39mvocab,\n\u001b[0;32m     54\u001b[0m         disable\u001b[38;5;241m=\u001b[39mdisable,\n\u001b[0;32m     55\u001b[0m         enable\u001b[38;5;241m=\u001b[39menable,\n\u001b[0;32m     56\u001b[0m         exclude\u001b[38;5;241m=\u001b[39mexclude,\n\u001b[0;32m     57\u001b[0m         config\u001b[38;5;241m=\u001b[39mconfig,\n\u001b[0;32m     58\u001b[0m     )\n",
      "File \u001b[1;32mc:\\Users\\MamtaChaudhary\\anaconda3\\Lib\\site-packages\\spacy\\util.py:472\u001b[0m, in \u001b[0;36mload_model\u001b[1;34m(name, vocab, disable, enable, exclude, config)\u001b[0m\n\u001b[0;32m    470\u001b[0m \u001b[38;5;28;01mif\u001b[39;00m name \u001b[38;5;129;01min\u001b[39;00m OLD_MODEL_SHORTCUTS:\n\u001b[0;32m    471\u001b[0m     \u001b[38;5;28;01mraise\u001b[39;00m \u001b[38;5;167;01mIOError\u001b[39;00m(Errors\u001b[38;5;241m.\u001b[39mE941\u001b[38;5;241m.\u001b[39mformat(name\u001b[38;5;241m=\u001b[39mname, full\u001b[38;5;241m=\u001b[39mOLD_MODEL_SHORTCUTS[name]))  \u001b[38;5;66;03m# type: ignore[index]\u001b[39;00m\n\u001b[1;32m--> 472\u001b[0m \u001b[38;5;28;01mraise\u001b[39;00m \u001b[38;5;167;01mIOError\u001b[39;00m(Errors\u001b[38;5;241m.\u001b[39mE050\u001b[38;5;241m.\u001b[39mformat(name\u001b[38;5;241m=\u001b[39mname))\n",
      "\u001b[1;31mOSError\u001b[0m: [E050] Can't find model 'en_core_web_sm'. It doesn't seem to be a Python package or a valid path to a data directory."
     ]
    }
   ],
   "source": [
    "import spacy\n",
    "\n",
    "# Load the spaCy model\n",
    "nlp = spacy.load('en_core_web_sm')\n",
    "\n",
    "def extract_company_info(text):\n",
    "    doc = nlp(text)\n",
    "\n",
    "    company_name = None\n",
    "    address = None\n",
    "    potential_address = []\n",
    "    \n",
    "    for ent in doc.ents:\n",
    "        if ent.label_ in [\"ORG\", \"PERSON\"]:\n",
    "            company_name = ent.text\n",
    "        if ent.label_ in [\"GPE\", \"LOC\"]:\n",
    "            potential_address.append(ent.text)\n",
    "            \n",
    "    # Assuming address follows the company name closely in the text\n",
    "    if company_name and potential_address:\n",
    "        start_idx = text.find(company_name)\n",
    "        address = ' '.join([p for p in potential_address if text.find(p) > start_idx])\n",
    "\n",
    "    return company_name, address\n",
    "\n",
    "# Sample unstructured texts\n",
    "text1 = \"\"\"\n",
    "please note that catalyst paper corporation must be named as additional insured on your commercial general liability and umbrella insurance policies client required wording for this additionally insured statement must show as catalyst paper corporation catalyst paper corporation name and address for certificate holder must show as catalyst paper corporation 2nd floor 3600 lysander lane richmond bc v7b 1c3\n",
    "\"\"\"\n",
    "\n",
    "text2 = \"\"\"\n",
    "client unit required wording for this additionally insured statement must show as 360 energy liability management 360 energy liability management name and address for certificate holder must show as 360 energy liability management suite 1600 bow valley square 1 2026 ave sw calgary ab t2p 2r9\n",
    "\"\"\"\n",
    "\n",
    "# Extract company info\n",
    "company_name1, address1 = extract_company_info(text1)\n",
    "company_name2, address2 = extract_company_info(text2)\n",
    "\n",
    "# Print extracted information\n",
    "print(f\"Company Name 1: {company_name1}\")\n",
    "print(f\"Address 1: {address1}\")\n",
    "print(f\"Company Name 2: {company_name2}\")\n",
    "print(f\"Address 2: {address2}\")\n"
   ]
  },
  {
   "cell_type": "code",
   "execution_count": null,
   "id": "dc3360c0",
   "metadata": {},
   "outputs": [],
   "source": [
    "p"
   ]
  },
  {
   "cell_type": "code",
   "execution_count": null,
   "id": "8ccc1e5d",
   "metadata": {},
   "outputs": [
    {
     "data": {
      "text/html": [
       "<div>\n",
       "<style scoped>\n",
       "    .dataframe tbody tr th:only-of-type {\n",
       "        vertical-align: middle;\n",
       "    }\n",
       "\n",
       "    .dataframe tbody tr th {\n",
       "        vertical-align: top;\n",
       "    }\n",
       "\n",
       "    .dataframe thead th {\n",
       "        text-align: right;\n",
       "    }\n",
       "</style>\n",
       "<table border=\"1\" class=\"dataframe\">\n",
       "  <thead>\n",
       "    <tr style=\"text-align: right;\">\n",
       "      <th></th>\n",
       "      <th>Explanation</th>\n",
       "    </tr>\n",
       "  </thead>\n",
       "  <tbody>\n",
       "    <tr>\n",
       "      <th>0</th>\n",
       "      <td>&amp;nbsp;\\n\\n\\n\\n\\nClient Unit\\n\\n\\nRequired Word...</td>\n",
       "    </tr>\n",
       "    <tr>\n",
       "      <th>1</th>\n",
       "      <td>&amp;nbsp;\\n\\n\\n\\n\\nName and Address for&amp;nbsp;'Cer...</td>\n",
       "    </tr>\n",
       "    <tr>\n",
       "      <th>2</th>\n",
       "      <td>&amp;nbsp;\\nPlease note that&amp;nbsp;Catalyst Paper C...</td>\n",
       "    </tr>\n",
       "    <tr>\n",
       "      <th>3</th>\n",
       "      <td>&amp;nbsp;\\nPlease note that&amp;nbsp;Catalyst Paper C...</td>\n",
       "    </tr>\n",
       "    <tr>\n",
       "      <th>4</th>\n",
       "      <td>Please note that 1132682 Alberta Ltd o/a Brown...</td>\n",
       "    </tr>\n",
       "    <tr>\n",
       "      <th>...</th>\n",
       "      <td>...</td>\n",
       "    </tr>\n",
       "    <tr>\n",
       "      <th>638</th>\n",
       "      <td>&amp;nbsp;\\nPlease note that Meritage Midstream UL...</td>\n",
       "    </tr>\n",
       "    <tr>\n",
       "      <th>639</th>\n",
       "      <td>&amp;nbsp; &amp;nbsp; &amp;nbsp; &amp;nbsp; &amp;nbsp; &amp;nbsp; &amp;nbs...</td>\n",
       "    </tr>\n",
       "    <tr>\n",
       "      <th>640</th>\n",
       "      <td>&amp;nbsp; &amp;nbsp; &amp;nbsp; &amp;nbsp; &amp;nbsp; &amp;nbsp; &amp;nbs...</td>\n",
       "    </tr>\n",
       "    <tr>\n",
       "      <th>641</th>\n",
       "      <td>&amp;nbsp; &amp;nbsp; &amp;nbsp; &amp;nbsp; &amp;nbsp; &amp;nbsp; &amp;nbs...</td>\n",
       "    </tr>\n",
       "    <tr>\n",
       "      <th>642</th>\n",
       "      <td>&amp;nbsp; &amp;nbsp; &amp;nbsp; &amp;nbsp; &amp;nbsp; &amp;nbsp; &amp;nbs...</td>\n",
       "    </tr>\n",
       "  </tbody>\n",
       "</table>\n",
       "<p>643 rows × 1 columns</p>\n",
       "</div>"
      ],
      "text/plain": [
       "                                           Explanation\n",
       "0    &nbsp;\\n\\n\\n\\n\\nClient Unit\\n\\n\\nRequired Word...\n",
       "1    &nbsp;\\n\\n\\n\\n\\nName and Address for&nbsp;'Cer...\n",
       "2    &nbsp;\\nPlease note that&nbsp;Catalyst Paper C...\n",
       "3    &nbsp;\\nPlease note that&nbsp;Catalyst Paper C...\n",
       "4    Please note that 1132682 Alberta Ltd o/a Brown...\n",
       "..                                                 ...\n",
       "638  &nbsp;\\nPlease note that Meritage Midstream UL...\n",
       "639  &nbsp; &nbsp; &nbsp; &nbsp; &nbsp; &nbsp; &nbs...\n",
       "640  &nbsp; &nbsp; &nbsp; &nbsp; &nbsp; &nbsp; &nbs...\n",
       "641  &nbsp; &nbsp; &nbsp; &nbsp; &nbsp; &nbsp; &nbs...\n",
       "642  &nbsp; &nbsp; &nbsp; &nbsp; &nbsp; &nbsp; &nbs...\n",
       "\n",
       "[643 rows x 1 columns]"
      ]
     },
     "execution_count": 16,
     "metadata": {},
     "output_type": "execute_result"
    }
   ],
   "source": []
  },
  {
   "cell_type": "code",
   "execution_count": null,
   "id": "9597563a",
   "metadata": {},
   "outputs": [],
   "source": [
    "import re\n",
    "\n",
    "def extract_info2(text):\n",
    "    # Example regex for capturing potential company names and addresses\n",
    "    company_pattern = r\"\\b(?:Inc|LLC|Corporation|Corp|Company|Co)\\b.*\"\n",
    "    address_pattern =r\"([0-9]{1,6})(.{5,75}?)((?:Ala(?:(?:bam|sk)a)|American Samoa|Arizona|Arkansas|(?:^(?!Baja )California)|Colorado|Connecticut|Delaware|District of Columbia|Florida|Georgia|Guam|Hawaii|Idaho|Illinois|Indiana|Iowa|Kansas|Kentucky|Louisiana|Maine|Maryland|Massachusetts|Michigan|Minnesota|Miss(?:(?:issipp|our)i)|Montana|Nebraska|Nevada|New (?:Hampshire|Jersey|Mexico|York)|North (?:(?:Carolin|Dakot)a)|Ohio|Oklahoma|Oregon|Pennsylvania|Puerto Rico|Rhode Island|South (?:(?:Carolin|Dakot)a)|Tennessee|Texas|Utah|Vermont|Virgin(?:ia| Island(s?))|Washington|West Virginia|Wisconsin|Wyoming|A[KLRSZ]|C[AOT]|D[CE]|FL|G[AU]|HI|I[ADLN]|K[SY]|LA|M[ADEINOST]|N[CDEHJMVY]|O[HKR]|P[AR]|RI|S[CD]|T[NX]|UT|V[AIT]|W[AIVY])).{1,2}([0-9]{5})\"\n",
    "\n",
    "    company_match = re.search(company_pattern, text)\n",
    "    address_match = re.search(address_pattern, text)\n",
    "\n",
    "    company = company_match.group(0) if company_match else None\n",
    "    address = address_match.group(0) if address_match else None\n",
    "\n",
    "    return company, address\n",
    "\n",
    "# Apply extraction function to the text field\n",
    "\n",
    "#df_new['Explanation']=df_new['Explanation'].apply(lambda x: pd.Series(preprocess_text(x)))\n",
    "#df1=df\n",
    "df_new[['Company', 'Address']] = df_new['Explanation'].apply(lambda x: pd.Series(extract_info2(x)))\n"
   ]
  },
  {
   "cell_type": "code",
   "execution_count": null,
   "id": "b3d91b19",
   "metadata": {},
   "outputs": [
    {
     "data": {
      "text/html": [
       "<div>\n",
       "<style scoped>\n",
       "    .dataframe tbody tr th:only-of-type {\n",
       "        vertical-align: middle;\n",
       "    }\n",
       "\n",
       "    .dataframe tbody tr th {\n",
       "        vertical-align: top;\n",
       "    }\n",
       "\n",
       "    .dataframe thead th {\n",
       "        text-align: right;\n",
       "    }\n",
       "</style>\n",
       "<table border=\"1\" class=\"dataframe\">\n",
       "  <thead>\n",
       "    <tr style=\"text-align: right;\">\n",
       "      <th></th>\n",
       "      <th>Explanation</th>\n",
       "      <th>Company</th>\n",
       "      <th>Address</th>\n",
       "    </tr>\n",
       "  </thead>\n",
       "  <tbody>\n",
       "    <tr>\n",
       "      <th>0</th>\n",
       "      <td>client unit required wording for this addition...</td>\n",
       "      <td>None</td>\n",
       "      <td>None</td>\n",
       "    </tr>\n",
       "    <tr>\n",
       "      <th>1</th>\n",
       "      <td>name and address for certificate holder must s...</td>\n",
       "      <td>None</td>\n",
       "      <td>None</td>\n",
       "    </tr>\n",
       "    <tr>\n",
       "      <th>2</th>\n",
       "      <td>please note that catalyst paper corporation mu...</td>\n",
       "      <td>None</td>\n",
       "      <td>None</td>\n",
       "    </tr>\n",
       "    <tr>\n",
       "      <th>3</th>\n",
       "      <td>please note that catalyst paper corporation mu...</td>\n",
       "      <td>None</td>\n",
       "      <td>None</td>\n",
       "    </tr>\n",
       "  </tbody>\n",
       "</table>\n",
       "</div>"
      ],
      "text/plain": [
       "                                         Explanation Company Address\n",
       "0  client unit required wording for this addition...    None    None\n",
       "1  name and address for certificate holder must s...    None    None\n",
       "2  please note that catalyst paper corporation mu...    None    None\n",
       "3  please note that catalyst paper corporation mu...    None    None"
      ]
     },
     "execution_count": 32,
     "metadata": {},
     "output_type": "execute_result"
    }
   ],
   "source": [
    "df_new.head(4)"
   ]
  },
  {
   "cell_type": "code",
   "execution_count": null,
   "id": "c57fa2f3",
   "metadata": {},
   "outputs": [],
   "source": []
  },
  {
   "cell_type": "code",
   "execution_count": null,
   "id": "48bb0113",
   "metadata": {},
   "outputs": [],
   "source": [
    "\n",
    "#Validate Extracted Data Using an LLM\n",
    "import openai\n",
    "\n",
    "# Initialize OpenAI API (replace 'your-api-key' with your actual API key)\n",
    "openai.api_key = 'your-api-key'\n",
    "\n",
    "def validate_with_llm(company, address):\n",
    "    prompt = f\"Validate and refine the following company information:\\nCompany: {company}\\nAddress: {address}\\n\"\n",
    "    \n",
    "    response = openai.Completion.create(\n",
    "        engine=\"text-davinci-003\",\n",
    "        prompt=prompt,\n",
    "        max_tokens=50\n",
    "    )\n",
    "    \n",
    "    # Assuming the LLM response is a refined version of company and address\n",
    "    return response.choices[0].text.strip()\n",
    "\n",
    "# Apply validation function\n",
    "df['ValidatedInfo'] = df.apply(lambda row: validate_with_llm(row['Company'], row['Address']), axis=1)\n"
   ]
  },
  {
   "cell_type": "code",
   "execution_count": null,
   "id": "ac0a1aa9",
   "metadata": {},
   "outputs": [],
   "source": [
    "\n",
    "#Parsing and Storing Validated Data\n",
    "def parse_validated_info(validated_info):\n",
    "    # Split the validated info into company and address\n",
    "    company, address = validated_info.split('\\n')\n",
    "    return company, address\n",
    "\n",
    "df[['ValidatedCompany', 'ValidatedAddress']] = df['ValidatedInfo'].apply(lambda x: pd.Series(parse_validated_info(x)))\n"
   ]
  },
  {
   "cell_type": "code",
   "execution_count": null,
   "id": "fcc60f22",
   "metadata": {},
   "outputs": [],
   "source": [
    "output_file = 'output_data.xlsx'\n",
    "df.to_excel(output_file, index=False)\n",
    "print(f\"Data saved to {output_file}\")\n"
   ]
  }
 ],
 "metadata": {
  "kernelspec": {
   "display_name": "base",
   "language": "python",
   "name": "python3"
  },
  "language_info": {
   "codemirror_mode": {
    "name": "ipython",
    "version": 3
   },
   "file_extension": ".py",
   "mimetype": "text/x-python",
   "name": "python",
   "nbconvert_exporter": "python",
   "pygments_lexer": "ipython3",
   "version": "3.12.7"
  }
 },
 "nbformat": 4,
 "nbformat_minor": 5
}
